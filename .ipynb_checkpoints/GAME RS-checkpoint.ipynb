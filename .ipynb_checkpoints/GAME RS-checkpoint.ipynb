{
 "cells": [
  {
   "cell_type": "code",
   "execution_count": 1,
   "id": "841d351c-9fa3-4d35-a602-27082f526816",
   "metadata": {},
   "outputs": [],
   "source": [
    "import pandas as pd\n",
    "import numpy as np\n",
    "import matplotlib.pyplot as plt\n",
    "import streamlit as st\n",
    "from sklearn.metrics.pairwise import linear_kernel\n",
    "from sklearn.feature_extraction.text import TfidfVectorizer"
   ]
  },
  {
   "cell_type": "code",
   "execution_count": 2,
   "id": "0243a378-6d26-4441-9567-d3c6005c4771",
   "metadata": {},
   "outputs": [],
   "source": [
    "games = pd.read_csv('data/steam.csv', sep=\",\", encoding='utf-8', low_memory=False)\n",
    "games_img = pd.read_csv('data/steam_media_data.csv', sep=\",\", encoding='utf-8', low_memory=False)\n",
    "games_des = pd.read_csv('data/steam_description_data.csv', sep=\",\", encoding='utf-8', low_memory=False)\n",
    "game_tag = pd.read_csv('data/steamspy_tag_data.csv', sep=\",\", encoding='utf-8', low_memory=False)\n",
    "game_req = pd.read_csv('data/steam_requirements_data.csv', sep=\",\", encoding='utf-8', low_memory=False)"
   ]
  },
  {
   "cell_type": "code",
   "execution_count": 3,
   "id": "d8a390e5-4c34-4a57-b29a-93b589582f74",
   "metadata": {},
   "outputs": [],
   "source": [
    "merged_df = pd.merge(games_img, games_des, how='inner', left_on='steam_appid', right_on='steam_appid')\n",
    "games = pd.merge(games, merged_df, how='inner', left_on='appid', right_on='steam_appid')"
   ]
  },
  {
   "cell_type": "code",
   "execution_count": 4,
   "id": "00db5971-cc11-47d8-a8ad-ba1f9bcd4bc0",
   "metadata": {},
   "outputs": [],
   "source": [
    "def get_max_tag(df):\n",
    "    result = []\n",
    "    for index, row in df.iterrows():\n",
    "        appid = row['appid']\n",
    "        tags = row.drop('appid')\n",
    "        max_tag = tags.idxmax()\n",
    "        result.append({'appid':appid,'main_tag':max_tag})\n",
    "    return pd.DataFrame(result)\n",
    "main_game_tag = get_max_tag(game_tag)"
   ]
  },
  {
   "cell_type": "code",
   "execution_count": 5,
   "id": "361dfa87-ca2d-49ba-8aa6-9eca95bbbd3d",
   "metadata": {},
   "outputs": [],
   "source": [
    "games = pd.merge(games, main_game_tag, how='inner', left_on='appid', right_on='appid')"
   ]
  },
  {
   "cell_type": "code",
   "execution_count": 6,
   "id": "a675e7bf-84f2-49e9-a816-0e51635f89a1",
   "metadata": {},
   "outputs": [],
   "source": [
    "games = pd.merge(games, game_req, how='inner', left_on='appid', right_on='steam_appid')"
   ]
  },
  {
   "cell_type": "code",
   "execution_count": 7,
   "id": "99122b20-535a-4830-a82d-6bbe81ce8fa9",
   "metadata": {},
   "outputs": [
    {
     "data": {
      "text/plain": [
       "Index(['appid', 'name', 'release_date', 'english', 'developer', 'publisher',\n",
       "       'platforms', 'required_age', 'categories', 'genres', 'steamspy_tags',\n",
       "       'achievements', 'positive_ratings', 'negative_ratings',\n",
       "       'average_playtime', 'median_playtime', 'owners', 'price',\n",
       "       'steam_appid_x', 'header_image', 'screenshots', 'background', 'movies',\n",
       "       'detailed_description', 'about_the_game', 'short_description',\n",
       "       'main_tag', 'steam_appid_y', 'pc_requirements', 'mac_requirements',\n",
       "       'linux_requirements', 'minimum', 'recommended'],\n",
       "      dtype='object')"
      ]
     },
     "execution_count": 7,
     "metadata": {},
     "output_type": "execute_result"
    }
   ],
   "source": [
    "games.columns"
   ]
  },
  {
   "cell_type": "code",
   "execution_count": 8,
   "id": "870866a4-e871-4ecb-9588-94070a0ad9a3",
   "metadata": {},
   "outputs": [],
   "source": [
    "games.drop(columns=['english', 'platforms', 'required_age', 'categories', 'genres', 'achievements',\n",
    "                    'average_playtime', 'median_playtime', 'steam_appid_x', 'steam_appid_y', \n",
    "                     'movies', 'detailed_description', 'about_the_game','mac_requirements','linux_requirements','recommended'], inplace=True)"
   ]
  },
  {
   "cell_type": "code",
   "execution_count": 30,
   "id": "3bf095ba-374d-48f7-a97a-113e618f4c64",
   "metadata": {},
   "outputs": [
    {
     "ename": "SyntaxError",
     "evalue": "incomplete input (3530666495.py, line 1)",
     "output_type": "error",
     "traceback": [
      "\u001b[1;36m  Cell \u001b[1;32mIn[30], line 1\u001b[1;36m\u001b[0m\n\u001b[1;33m    games.iloc[games[len(games)-3]['pc_requirements']\u001b[0m\n\u001b[1;37m                                                     ^\u001b[0m\n\u001b[1;31mSyntaxError\u001b[0m\u001b[1;31m:\u001b[0m incomplete input\n"
     ]
    }
   ],
   "source": [
    "games.iloc[games[len(games)-3]]['pc_requirements']"
   ]
  },
  {
   "cell_type": "code",
   "execution_count": 10,
   "id": "f50ac1ef-370e-4eae-951e-bc84c312431c",
   "metadata": {},
   "outputs": [
    {
     "data": {
      "text/plain": [
       "Index(['appid', 'name', 'release_date', 'developer', 'publisher',\n",
       "       'steamspy_tags', 'positive_ratings', 'negative_ratings', 'owners',\n",
       "       'price', 'header_image', 'screenshots', 'background',\n",
       "       'short_description', 'main_tag', 'pc_requirements', 'minimum'],\n",
       "      dtype='object')"
      ]
     },
     "execution_count": 10,
     "metadata": {},
     "output_type": "execute_result"
    }
   ],
   "source": [
    "games.columns"
   ]
  },
  {
   "cell_type": "code",
   "execution_count": 11,
   "id": "a0b581f5-98f7-4729-9bcd-738dc24e81f0",
   "metadata": {},
   "outputs": [
    {
     "data": {
      "text/plain": [
       "'Action;FPS;Multiplayer'"
      ]
     },
     "execution_count": 11,
     "metadata": {},
     "output_type": "execute_result"
    }
   ],
   "source": [
    "games.iloc[0]['steamspy_tags']"
   ]
  },
  {
   "cell_type": "code",
   "execution_count": 12,
   "id": "1709e2f7-88d1-4dc7-8fe9-bd8ee5ecf4a2",
   "metadata": {},
   "outputs": [],
   "source": [
    "games.loc[games['name']=='Sekiro™: Shadows Die Twice','main_tag']= 'dark_fantasy'"
   ]
  },
  {
   "cell_type": "code",
   "execution_count": 13,
   "id": "bb895bcd-bb0c-4366-8526-67153b57ee34",
   "metadata": {},
   "outputs": [
    {
     "data": {
      "text/html": [
       "<div>\n",
       "<style scoped>\n",
       "    .dataframe tbody tr th:only-of-type {\n",
       "        vertical-align: middle;\n",
       "    }\n",
       "\n",
       "    .dataframe tbody tr th {\n",
       "        vertical-align: top;\n",
       "    }\n",
       "\n",
       "    .dataframe thead th {\n",
       "        text-align: right;\n",
       "    }\n",
       "</style>\n",
       "<table border=\"1\" class=\"dataframe\">\n",
       "  <thead>\n",
       "    <tr style=\"text-align: right;\">\n",
       "      <th></th>\n",
       "      <th>appid</th>\n",
       "      <th>name</th>\n",
       "      <th>release_date</th>\n",
       "      <th>developer</th>\n",
       "      <th>publisher</th>\n",
       "      <th>steamspy_tags</th>\n",
       "      <th>positive_ratings</th>\n",
       "      <th>negative_ratings</th>\n",
       "      <th>owners</th>\n",
       "      <th>price</th>\n",
       "      <th>header_image</th>\n",
       "      <th>screenshots</th>\n",
       "      <th>background</th>\n",
       "      <th>short_description</th>\n",
       "      <th>main_tag</th>\n",
       "      <th>pc_requirements</th>\n",
       "      <th>minimum</th>\n",
       "    </tr>\n",
       "  </thead>\n",
       "  <tbody>\n",
       "    <tr>\n",
       "      <th>20816</th>\n",
       "      <td>814380</td>\n",
       "      <td>Sekiro™: Shadows Die Twice</td>\n",
       "      <td>2019-03-21</td>\n",
       "      <td>FromSoftware</td>\n",
       "      <td>Activision (Excluding Japan and Asia);FromSoft...</td>\n",
       "      <td>Action;Souls-like;Difficult</td>\n",
       "      <td>21504</td>\n",
       "      <td>3019</td>\n",
       "      <td>2000000-5000000</td>\n",
       "      <td>49.9</td>\n",
       "      <td>https://steamcdn-a.akamaihd.net/steam/apps/814...</td>\n",
       "      <td>[{'id': 0, 'path_thumbnail': 'https://steamcdn...</td>\n",
       "      <td>https://steamcdn-a.akamaihd.net/steam/apps/814...</td>\n",
       "      <td>Carve your own clever path to vengeance in an ...</td>\n",
       "      <td>dark_fantasy</td>\n",
       "      <td>{'minimum': '&lt;strong&gt;Minimum:&lt;/strong&gt;&lt;br&gt;&lt;ul ...</td>\n",
       "      <td>OS: Windows 7 64-bit | Windows 8 64-bit | Wind...</td>\n",
       "    </tr>\n",
       "  </tbody>\n",
       "</table>\n",
       "</div>"
      ],
      "text/plain": [
       "        appid                        name release_date     developer  \\\n",
       "20816  814380  Sekiro™: Shadows Die Twice   2019-03-21  FromSoftware   \n",
       "\n",
       "                                               publisher  \\\n",
       "20816  Activision (Excluding Japan and Asia);FromSoft...   \n",
       "\n",
       "                     steamspy_tags  positive_ratings  negative_ratings  \\\n",
       "20816  Action;Souls-like;Difficult             21504              3019   \n",
       "\n",
       "                owners  price  \\\n",
       "20816  2000000-5000000   49.9   \n",
       "\n",
       "                                            header_image  \\\n",
       "20816  https://steamcdn-a.akamaihd.net/steam/apps/814...   \n",
       "\n",
       "                                             screenshots  \\\n",
       "20816  [{'id': 0, 'path_thumbnail': 'https://steamcdn...   \n",
       "\n",
       "                                              background  \\\n",
       "20816  https://steamcdn-a.akamaihd.net/steam/apps/814...   \n",
       "\n",
       "                                       short_description      main_tag  \\\n",
       "20816  Carve your own clever path to vengeance in an ...  dark_fantasy   \n",
       "\n",
       "                                         pc_requirements  \\\n",
       "20816  {'minimum': '<strong>Minimum:</strong><br><ul ...   \n",
       "\n",
       "                                                 minimum  \n",
       "20816  OS: Windows 7 64-bit | Windows 8 64-bit | Wind...  "
      ]
     },
     "execution_count": 13,
     "metadata": {},
     "output_type": "execute_result"
    }
   ],
   "source": [
    "games[games['name']=='Sekiro™: Shadows Die Twice']"
   ]
  },
  {
   "cell_type": "code",
   "execution_count": 14,
   "id": "c6aeaa18-54a1-4313-ad10-ba02d1dab5da",
   "metadata": {},
   "outputs": [],
   "source": [
    "new_row = {'appid':1245620, \n",
    "'name':'ELDEN RING', \n",
    "'release_date':'2022-01-25', \n",
    "'developer':'FromSoftware', \n",
    "'publisher':'Bandai Namco Entertainment',\n",
    "'steamspy_tags':\"['Action', 'RPG', 'Open World', 'Dark Fantasy', 'Adventure']\", \n",
    "'positive_ratings':280000, \n",
    "'negative_ratings':25000, \n",
    "'owners':10000000, \n",
    "'price':59.99, \n",
    "'header_image':'https://shared.akamai.steamstatic.com/store_item_assets/steam/apps/1245620/header_alt_assets_1.jpg?t=1718379607', \n",
    "'screenshots':\"[{'id': 0, 'path_thumbnail': 'https://shared.akamai.steamstatic.com/store_item_assets/steam/apps/1245620/ss_c97bcad291f4f45d4be4594f34bd78921d961099.600x338.jpg?t=1718379607', 'path_full': 'https://shared.akamai.steamstatic.com/store_item_assets/steam/apps/1245620/ss_c97bcad291f4f45d4be4594f34bd78921d961099.1920x1080.jpg?t=1718379607'}, {'id': 1, 'path_thumbnail': 'https://shared.akamai.steamstatic.com/store_item_assets/steam/apps/1245620/ss_7bef8e5fb78ee8bd396c5ff17af10731edf52c5f.600x338.jpg?t=1718379607', 'path_full': 'https://shared.akamai.steamstatic.com/store_item_assets/steam/apps/1245620/ss_7bef8e5fb78ee8bd396c5ff17af10731edf52c5f.1920x1080.jpg?t=1718379607'}, {'id': 2, 'path_thumbnail': 'https://shared.akamai.steamstatic.com/store_item_assets/steam/apps/1245620/ss_8234a34c918d101fa0b15f73ca2aed5ac7232dbb.600x338.jpg?t=1718379607', 'path_full': 'https://shared.akamai.steamstatic.com/store_item_assets/steam/apps/1245620/ss_8234a34c918d101fa0b15f73ca2aed5ac7232dbb.1920x1080.jpg?t=1718379607'}, {'id': 3, 'path_thumbnail': 'https://shared.akamai.steamstatic.com/store_item_assets/steam/apps/1245620/ss_b6c4cdb36cebdbd52b97ab6e0851b7d3e41f03b3.600x338.jpg?t=1718379607', 'path_full': 'https://shared.akamai.steamstatic.com/store_item_assets/steam/apps/1245620/ss_b6c4cdb36cebdbd52b97ab6e0851b7d3e41f03b3.1920x1080.jpg?t=1718379607'}, {'id': 4, 'path_thumbnail': 'https://shared.akamai.steamstatic.com/store_item_assets/steam/apps/1245620/ss_b70e156adf9e40aed24c10fb352b7813586e7290.600x338.jpg?t=1718379607', 'path_full': 'https://shared.akamai.steamstatic.com/store_item_assets/steam/apps/1245620/ss_b70e156adf9e40aed24c10fb352b7813586e7290.1920x1080.jpg?t=1718379607'}, {'id': 5, 'path_thumbnail': 'https://shared.akamai.steamstatic.com/store_item_assets/steam/apps/1245620/ss_1e3dfe515c04f4071207f01d62b85a1d6b560ced.600x338.jpg?t=1718379607', 'path_full': 'https://shared.akamai.steamstatic.com/store_item_assets/steam/apps/1245620/ss_1e3dfe515c04f4071207f01d62b85a1d6b560ced.1920x1080.jpg?t=1718379607'}, {'id': 6, 'path_thumbnail': 'https://shared.akamai.steamstatic.com/store_item_assets/steam/apps/1245620/ss_cb9445da232527daf9b7d1d2fcc60fe213f0d7ba.600x338.jpg?t=1718379607', 'path_full': 'https://shared.akamai.steamstatic.com/store_item_assets/steam/apps/1245620/ss_cb9445da232527daf9b7d1d2fcc60fe213f0d7ba.1920x1080.jpg?t=1718379607'}, {'id': 7, 'path_thumbnail': 'https://shared.akamai.steamstatic.com/store_item_assets/steam/apps/1245620/ss_828169fcebebe98bee822bd88ae81b410068a2ba.600x338.jpg?t=1718379607', 'path_full': 'https://shared.akamai.steamstatic.com/store_item_assets/steam/apps/1245620/ss_828169fcebebe98bee822bd88ae81b410068a2ba.1920x1080.jpg?t=1718379607'}, {'id': 8, 'path_thumbnail': 'https://shared.akamai.steamstatic.com/store_item_assets/steam/apps/1245620/ss_1bcbf1da1ddefb169cc69292f043a3573b3390ec.600x338.jpg?t=1718379607', 'path_full': 'https://shared.akamai.steamstatic.com/store_item_assets/steam/apps/1245620/ss_1bcbf1da1ddefb169cc69292f043a3573b3390ec.1920x1080.jpg?t=1718379607'}, {'id': 9, 'path_thumbnail': 'https://shared.akamai.steamstatic.com/store_item_assets/steam/apps/1245620/ss_4eac12f0ba713acbe1afcd19ba29f4cf90324ea1.600x338.jpg?t=1718379607', 'path_full': 'https://shared.akamai.steamstatic.com/store_item_assets/steam/apps/1245620/ss_4eac12f0ba713acbe1afcd19ba29f4cf90324ea1.1920x1080.jpg?t=1718379607'}]\", \n",
    "'short_description':'THE NEW FANTASY ACTION RPG. Rise, Tarnished, and be guided by grace to brandish the power of the Elden Ring and become an Elden Lord in the Lands Between.', \n",
    "'main_tag':'dark_fantasy'}"
   ]
  },
  {
   "cell_type": "code",
   "execution_count": 15,
   "id": "b67d4809-7c75-4954-a083-fc20e7247684",
   "metadata": {},
   "outputs": [],
   "source": [
    "games.loc[len(games)] = new_row"
   ]
  },
  {
   "cell_type": "code",
   "execution_count": 16,
   "id": "6b4ea7db-784b-4835-a3e5-e517fffb3e1a",
   "metadata": {},
   "outputs": [
    {
     "data": {
      "text/html": [
       "<div>\n",
       "<style scoped>\n",
       "    .dataframe tbody tr th:only-of-type {\n",
       "        vertical-align: middle;\n",
       "    }\n",
       "\n",
       "    .dataframe tbody tr th {\n",
       "        vertical-align: top;\n",
       "    }\n",
       "\n",
       "    .dataframe thead th {\n",
       "        text-align: right;\n",
       "    }\n",
       "</style>\n",
       "<table border=\"1\" class=\"dataframe\">\n",
       "  <thead>\n",
       "    <tr style=\"text-align: right;\">\n",
       "      <th></th>\n",
       "      <th>appid</th>\n",
       "      <th>name</th>\n",
       "      <th>release_date</th>\n",
       "      <th>developer</th>\n",
       "      <th>publisher</th>\n",
       "      <th>steamspy_tags</th>\n",
       "      <th>positive_ratings</th>\n",
       "      <th>negative_ratings</th>\n",
       "      <th>owners</th>\n",
       "      <th>price</th>\n",
       "      <th>header_image</th>\n",
       "      <th>screenshots</th>\n",
       "      <th>background</th>\n",
       "      <th>short_description</th>\n",
       "      <th>main_tag</th>\n",
       "      <th>pc_requirements</th>\n",
       "      <th>minimum</th>\n",
       "    </tr>\n",
       "  </thead>\n",
       "  <tbody>\n",
       "    <tr>\n",
       "      <th>27062</th>\n",
       "      <td>1245620</td>\n",
       "      <td>ELDEN RING</td>\n",
       "      <td>2022-01-25</td>\n",
       "      <td>FromSoftware</td>\n",
       "      <td>Bandai Namco Entertainment</td>\n",
       "      <td>['Action', 'RPG', 'Open World', 'Dark Fantasy'...</td>\n",
       "      <td>280000</td>\n",
       "      <td>25000</td>\n",
       "      <td>10000000</td>\n",
       "      <td>59.99</td>\n",
       "      <td>https://shared.akamai.steamstatic.com/store_it...</td>\n",
       "      <td>[{'id': 0, 'path_thumbnail': 'https://shared.a...</td>\n",
       "      <td>NaN</td>\n",
       "      <td>THE NEW FANTASY ACTION RPG. Rise, Tarnished, a...</td>\n",
       "      <td>dark_fantasy</td>\n",
       "      <td>NaN</td>\n",
       "      <td>NaN</td>\n",
       "    </tr>\n",
       "  </tbody>\n",
       "</table>\n",
       "</div>"
      ],
      "text/plain": [
       "         appid        name release_date     developer  \\\n",
       "27062  1245620  ELDEN RING   2022-01-25  FromSoftware   \n",
       "\n",
       "                        publisher  \\\n",
       "27062  Bandai Namco Entertainment   \n",
       "\n",
       "                                           steamspy_tags  positive_ratings  \\\n",
       "27062  ['Action', 'RPG', 'Open World', 'Dark Fantasy'...            280000   \n",
       "\n",
       "       negative_ratings    owners  price  \\\n",
       "27062             25000  10000000  59.99   \n",
       "\n",
       "                                            header_image  \\\n",
       "27062  https://shared.akamai.steamstatic.com/store_it...   \n",
       "\n",
       "                                             screenshots background  \\\n",
       "27062  [{'id': 0, 'path_thumbnail': 'https://shared.a...        NaN   \n",
       "\n",
       "                                       short_description      main_tag  \\\n",
       "27062  THE NEW FANTASY ACTION RPG. Rise, Tarnished, a...  dark_fantasy   \n",
       "\n",
       "      pc_requirements minimum  \n",
       "27062             NaN     NaN  "
      ]
     },
     "execution_count": 16,
     "metadata": {},
     "output_type": "execute_result"
    }
   ],
   "source": [
    "games[games['name']=='ELDEN RING']"
   ]
  },
  {
   "cell_type": "code",
   "execution_count": 17,
   "id": "04370724-a84d-423c-8d6d-2f356abb04e9",
   "metadata": {},
   "outputs": [],
   "source": [
    "top30 = games"
   ]
  },
  {
   "cell_type": "code",
   "execution_count": 18,
   "id": "77a955d2-c6e3-490c-a6da-d43da6dd3027",
   "metadata": {},
   "outputs": [],
   "source": [
    "def calculate_average(owners_range):\n",
    "    if isinstance(owners_range, str) and '-' in owners_range:\n",
    "        min_owner, max_owner = map(int, owners_range.split('-'))\n",
    "        return (min_owner + max_owner) / 2\n",
    "    else:\n",
    "        try:\n",
    "            return float(owners_range)\n",
    "        except ValueError:\n",
    "            return None\n",
    "top30['owners'] = top30['owners'].apply(calculate_average)"
   ]
  },
  {
   "cell_type": "code",
   "execution_count": 19,
   "id": "734a333a-eaaa-404f-9362-cfbf162b4b5a",
   "metadata": {},
   "outputs": [
    {
     "data": {
      "text/plain": [
       "15000000.0"
      ]
     },
     "execution_count": 19,
     "metadata": {},
     "output_type": "execute_result"
    }
   ],
   "source": [
    "top30.iloc[0]['owners']"
   ]
  },
  {
   "cell_type": "code",
   "execution_count": 20,
   "id": "5f26fcae-88af-474b-99de-7fe5822b62ab",
   "metadata": {},
   "outputs": [],
   "source": [
    "top30 = top30.sort_values(by='owners',ascending=False)"
   ]
  },
  {
   "cell_type": "code",
   "execution_count": 21,
   "id": "f5872ca9-a50f-45a8-a2cd-cde2615971e2",
   "metadata": {},
   "outputs": [
    {
     "data": {
      "text/html": [
       "<div>\n",
       "<style scoped>\n",
       "    .dataframe tbody tr th:only-of-type {\n",
       "        vertical-align: middle;\n",
       "    }\n",
       "\n",
       "    .dataframe tbody tr th {\n",
       "        vertical-align: top;\n",
       "    }\n",
       "\n",
       "    .dataframe thead th {\n",
       "        text-align: right;\n",
       "    }\n",
       "</style>\n",
       "<table border=\"1\" class=\"dataframe\">\n",
       "  <thead>\n",
       "    <tr style=\"text-align: right;\">\n",
       "      <th></th>\n",
       "      <th>appid</th>\n",
       "      <th>name</th>\n",
       "      <th>release_date</th>\n",
       "      <th>developer</th>\n",
       "      <th>publisher</th>\n",
       "      <th>steamspy_tags</th>\n",
       "      <th>positive_ratings</th>\n",
       "      <th>negative_ratings</th>\n",
       "      <th>owners</th>\n",
       "      <th>price</th>\n",
       "      <th>header_image</th>\n",
       "      <th>screenshots</th>\n",
       "      <th>background</th>\n",
       "      <th>short_description</th>\n",
       "      <th>main_tag</th>\n",
       "      <th>pc_requirements</th>\n",
       "      <th>minimum</th>\n",
       "    </tr>\n",
       "  </thead>\n",
       "  <tbody>\n",
       "    <tr>\n",
       "      <th>22</th>\n",
       "      <td>570</td>\n",
       "      <td>Dota 2</td>\n",
       "      <td>2013-07-09</td>\n",
       "      <td>Valve</td>\n",
       "      <td>Valve</td>\n",
       "      <td>Free to Play;MOBA;Strategy</td>\n",
       "      <td>863507</td>\n",
       "      <td>142079</td>\n",
       "      <td>150000000.0</td>\n",
       "      <td>0.00</td>\n",
       "      <td>https://steamcdn-a.akamaihd.net/steam/apps/570...</td>\n",
       "      <td>[{'id': 0, 'path_thumbnail': 'https://steamcdn...</td>\n",
       "      <td>https://steamcdn-a.akamaihd.net/steam/apps/570...</td>\n",
       "      <td>Every day, millions of players worldwide enter...</td>\n",
       "      <td>free_to_play</td>\n",
       "      <td>{'minimum': '&lt;strong&gt;Minimum:&lt;/strong&gt;&lt;br&gt;&lt;ul ...</td>\n",
       "      <td>OS: Windows 7 or newer Processor: Dual core fr...</td>\n",
       "    </tr>\n",
       "    <tr>\n",
       "      <th>12827</th>\n",
       "      <td>578080</td>\n",
       "      <td>PLAYERUNKNOWN'S BATTLEGROUNDS</td>\n",
       "      <td>2017-12-21</td>\n",
       "      <td>PUBG Corporation</td>\n",
       "      <td>PUBG Corporation</td>\n",
       "      <td>Survival;Shooter;Multiplayer</td>\n",
       "      <td>496184</td>\n",
       "      <td>487076</td>\n",
       "      <td>75000000.0</td>\n",
       "      <td>26.99</td>\n",
       "      <td>https://steamcdn-a.akamaihd.net/steam/apps/578...</td>\n",
       "      <td>[{'id': 0, 'path_thumbnail': 'https://steamcdn...</td>\n",
       "      <td>https://steamcdn-a.akamaihd.net/steam/apps/578...</td>\n",
       "      <td>PLAYERUNKNOWN'S BATTLEGROUNDS is a battle roya...</td>\n",
       "      <td>survival</td>\n",
       "      <td>{'minimum': '&lt;strong&gt;Minimum:&lt;/strong&gt;&lt;br&gt;&lt;ul ...</td>\n",
       "      <td>Requires a 64-bit processor and operating syst...</td>\n",
       "    </tr>\n",
       "    <tr>\n",
       "      <th>25</th>\n",
       "      <td>730</td>\n",
       "      <td>Counter-Strike: Global Offensive</td>\n",
       "      <td>2012-08-21</td>\n",
       "      <td>Valve;Hidden Path Entertainment</td>\n",
       "      <td>Valve</td>\n",
       "      <td>FPS;Multiplayer;Shooter</td>\n",
       "      <td>2644404</td>\n",
       "      <td>402313</td>\n",
       "      <td>75000000.0</td>\n",
       "      <td>0.00</td>\n",
       "      <td>https://steamcdn-a.akamaihd.net/steam/apps/730...</td>\n",
       "      <td>[{'id': 0, 'path_thumbnail': 'https://steamcdn...</td>\n",
       "      <td>https://steamcdn-a.akamaihd.net/steam/apps/730...</td>\n",
       "      <td>Counter-Strike: Global Offensive (CS: GO) expa...</td>\n",
       "      <td>fps</td>\n",
       "      <td>{'minimum': '&lt;strong&gt;Minimum:&lt;/strong&gt;&lt;br&gt;&lt;ul ...</td>\n",
       "      <td>OS: Windows® 7/Vista/XP Processor: Intel® Core...</td>\n",
       "    </tr>\n",
       "  </tbody>\n",
       "</table>\n",
       "</div>"
      ],
      "text/plain": [
       "        appid                              name release_date  \\\n",
       "22        570                            Dota 2   2013-07-09   \n",
       "12827  578080     PLAYERUNKNOWN'S BATTLEGROUNDS   2017-12-21   \n",
       "25        730  Counter-Strike: Global Offensive   2012-08-21   \n",
       "\n",
       "                             developer         publisher  \\\n",
       "22                               Valve             Valve   \n",
       "12827                 PUBG Corporation  PUBG Corporation   \n",
       "25     Valve;Hidden Path Entertainment             Valve   \n",
       "\n",
       "                      steamspy_tags  positive_ratings  negative_ratings  \\\n",
       "22       Free to Play;MOBA;Strategy            863507            142079   \n",
       "12827  Survival;Shooter;Multiplayer            496184            487076   \n",
       "25          FPS;Multiplayer;Shooter           2644404            402313   \n",
       "\n",
       "            owners  price                                       header_image  \\\n",
       "22     150000000.0   0.00  https://steamcdn-a.akamaihd.net/steam/apps/570...   \n",
       "12827   75000000.0  26.99  https://steamcdn-a.akamaihd.net/steam/apps/578...   \n",
       "25      75000000.0   0.00  https://steamcdn-a.akamaihd.net/steam/apps/730...   \n",
       "\n",
       "                                             screenshots  \\\n",
       "22     [{'id': 0, 'path_thumbnail': 'https://steamcdn...   \n",
       "12827  [{'id': 0, 'path_thumbnail': 'https://steamcdn...   \n",
       "25     [{'id': 0, 'path_thumbnail': 'https://steamcdn...   \n",
       "\n",
       "                                              background  \\\n",
       "22     https://steamcdn-a.akamaihd.net/steam/apps/570...   \n",
       "12827  https://steamcdn-a.akamaihd.net/steam/apps/578...   \n",
       "25     https://steamcdn-a.akamaihd.net/steam/apps/730...   \n",
       "\n",
       "                                       short_description      main_tag  \\\n",
       "22     Every day, millions of players worldwide enter...  free_to_play   \n",
       "12827  PLAYERUNKNOWN'S BATTLEGROUNDS is a battle roya...      survival   \n",
       "25     Counter-Strike: Global Offensive (CS: GO) expa...           fps   \n",
       "\n",
       "                                         pc_requirements  \\\n",
       "22     {'minimum': '<strong>Minimum:</strong><br><ul ...   \n",
       "12827  {'minimum': '<strong>Minimum:</strong><br><ul ...   \n",
       "25     {'minimum': '<strong>Minimum:</strong><br><ul ...   \n",
       "\n",
       "                                                 minimum  \n",
       "22     OS: Windows 7 or newer Processor: Dual core fr...  \n",
       "12827  Requires a 64-bit processor and operating syst...  \n",
       "25     OS: Windows® 7/Vista/XP Processor: Intel® Core...  "
      ]
     },
     "execution_count": 21,
     "metadata": {},
     "output_type": "execute_result"
    }
   ],
   "source": [
    "top30.head(3)"
   ]
  },
  {
   "cell_type": "code",
   "execution_count": 22,
   "id": "5a33bce3-1c06-4709-bc2c-2d93593ef9f2",
   "metadata": {},
   "outputs": [],
   "source": [
    "def tfidf_matrix(games):\n",
    "    tf = TfidfVectorizer(analyzer='word', ngram_range=(1, 1), min_df=1)\n",
    "    new_tfidf_matrix = tf.fit_transform(games['steamspy_tags'])\n",
    "    return new_tfidf_matrix"
   ]
  },
  {
   "cell_type": "code",
   "execution_count": 23,
   "id": "86886541-99c6-4712-8ae2-1747bf4ec2cd",
   "metadata": {},
   "outputs": [],
   "source": [
    "def cosine_sim(matrix):\n",
    "    new_cosine_sim = linear_kernel(matrix, matrix)\n",
    "    return new_cosine_sim"
   ]
  },
  {
   "cell_type": "code",
   "execution_count": 24,
   "id": "5c74c940-891c-463e-b5c6-7ffdad75e2c5",
   "metadata": {},
   "outputs": [],
   "source": [
    "games['steamspy_tags'] = games['steamspy_tags'].str.split(';')\n",
    "games['steamspy_tags'] = games['steamspy_tags'].fillna(\"\").astype('str')\n",
    "tfidf_matrix = tfidf_matrix(games)\n",
    "cosine_sim = cosine_sim(tfidf_matrix)"
   ]
  },
  {
   "cell_type": "code",
   "execution_count": 25,
   "id": "cb934293-1668-49a9-969a-43ba9fb6ee2c",
   "metadata": {},
   "outputs": [],
   "source": [
    "indices = pd.Series(games.index, index=games['name']).drop_duplicates()\n",
    "\n",
    "def get_recommendations(name, cosine_sim=cosine_sim):\n",
    "    idx = indices[name]\n",
    "    sim_scores = list(enumerate(cosine_sim[idx]))\n",
    "    sim_scores = sorted(sim_scores, key=lambda x: x[1], reverse=True)\n",
    "    sim_scores = sim_scores[1:11]\n",
    "    game_indices = [i[0] for i in sim_scores]\n",
    "    return games.iloc[game_indices][['appid', 'name', 'short_description', 'developer', 'publisher', 'price', 'steamspy_tags', 'release_date', 'header_image']]\n"
   ]
  },
  {
   "cell_type": "code",
   "execution_count": 26,
   "id": "b54a055b-76a2-4feb-b00a-68053204235d",
   "metadata": {},
   "outputs": [
    {
     "name": "stdout",
     "output_type": "stream",
     "text": [
      "[{'id': 0, 'path_thumbnail': 'https://steamcdn-a.akamaihd.net/steam/apps/374320/ss_5efd318b85a3917d1c6e717f4cb813b47547cd6f.600x338.jpg?t=1553251330', 'path_full': 'https://steamcdn-a.akamaihd.net/steam/apps/374320/ss_5efd318b85a3917d1c6e717f4cb813b47547cd6f.1920x1080.jpg?t=1553251330'}, {'id': 1, 'path_thumbnail': 'https://steamcdn-a.akamaihd.net/steam/apps/374320/ss_1c0fa39091901496d77cf4cecfea4ffb056d6452.600x338.jpg?t=1553251330', 'path_full': 'https://steamcdn-a.akamaihd.net/steam/apps/374320/ss_1c0fa39091901496d77cf4cecfea4ffb056d6452.1920x1080.jpg?t=1553251330'}, {'id': 2, 'path_thumbnail': 'https://steamcdn-a.akamaihd.net/steam/apps/374320/ss_1318a04ef11d87f38aebe6d47a96124f8f888ca8.600x338.jpg?t=1553251330', 'path_full': 'https://steamcdn-a.akamaihd.net/steam/apps/374320/ss_1318a04ef11d87f38aebe6d47a96124f8f888ca8.1920x1080.jpg?t=1553251330'}, {'id': 3, 'path_thumbnail': 'https://steamcdn-a.akamaihd.net/steam/apps/374320/ss_61524dee9ebf72d462638f21adbbbea4c93d791d.600x338.jpg?t=1553251330', 'path_full': 'https://steamcdn-a.akamaihd.net/steam/apps/374320/ss_61524dee9ebf72d462638f21adbbbea4c93d791d.1920x1080.jpg?t=1553251330'}, {'id': 4, 'path_thumbnail': 'https://steamcdn-a.akamaihd.net/steam/apps/374320/ss_fe1dc6761a9004aa39c2e6e62181593b7263edf9.600x338.jpg?t=1553251330', 'path_full': 'https://steamcdn-a.akamaihd.net/steam/apps/374320/ss_fe1dc6761a9004aa39c2e6e62181593b7263edf9.1920x1080.jpg?t=1553251330'}, {'id': 5, 'path_thumbnail': 'https://steamcdn-a.akamaihd.net/steam/apps/374320/ss_27397db724cfd5648655c1056ff5d184147a4c50.600x338.jpg?t=1553251330', 'path_full': 'https://steamcdn-a.akamaihd.net/steam/apps/374320/ss_27397db724cfd5648655c1056ff5d184147a4c50.1920x1080.jpg?t=1553251330'}, {'id': 6, 'path_thumbnail': 'https://steamcdn-a.akamaihd.net/steam/apps/374320/ss_da36c88ae35d4f20c9d221a79592b31c080521d2.600x338.jpg?t=1553251330', 'path_full': 'https://steamcdn-a.akamaihd.net/steam/apps/374320/ss_da36c88ae35d4f20c9d221a79592b31c080521d2.1920x1080.jpg?t=1553251330'}, {'id': 7, 'path_thumbnail': 'https://steamcdn-a.akamaihd.net/steam/apps/374320/ss_12c4d9a3c04d6d340ffea9335441eb2ad84e0028.600x338.jpg?t=1553251330', 'path_full': 'https://steamcdn-a.akamaihd.net/steam/apps/374320/ss_12c4d9a3c04d6d340ffea9335441eb2ad84e0028.1920x1080.jpg?t=1553251330'}, {'id': 8, 'path_thumbnail': 'https://steamcdn-a.akamaihd.net/steam/apps/374320/ss_701aa9c2f62f458fd3c9a2bd9561ad5e7f41f662.600x338.jpg?t=1553251330', 'path_full': 'https://steamcdn-a.akamaihd.net/steam/apps/374320/ss_701aa9c2f62f458fd3c9a2bd9561ad5e7f41f662.1920x1080.jpg?t=1553251330'}, {'id': 9, 'path_thumbnail': 'https://steamcdn-a.akamaihd.net/steam/apps/374320/ss_975ca4966b9b627f8d9bb0d2c9b6743dfceac6da.600x338.jpg?t=1553251330', 'path_full': 'https://steamcdn-a.akamaihd.net/steam/apps/374320/ss_975ca4966b9b627f8d9bb0d2c9b6743dfceac6da.1920x1080.jpg?t=1553251330'}]\n"
     ]
    }
   ],
   "source": [
    "dark = games[games['name']=='DARK SOULS™ III']\n",
    "data = dark.iloc[0]['screenshots']\n",
    "print(data)"
   ]
  },
  {
   "cell_type": "code",
   "execution_count": 27,
   "id": "2ab0ea0a-df0b-40d4-98c5-9b4e486898e6",
   "metadata": {},
   "outputs": [],
   "source": [
    "import json"
   ]
  },
  {
   "cell_type": "code",
   "execution_count": 28,
   "id": "e3a57a2e-0d7f-439a-9900-d7513de3db17",
   "metadata": {},
   "outputs": [
    {
     "name": "stdout",
     "output_type": "stream",
     "text": [
      "['https://steamcdn-a.akamaihd.net/steam/apps/374320/ss_5efd318b85a3917d1c6e717f4cb813b47547cd6f.600x338.jpg?t=1553251330', 'https://steamcdn-a.akamaihd.net/steam/apps/374320/ss_1c0fa39091901496d77cf4cecfea4ffb056d6452.600x338.jpg?t=1553251330', 'https://steamcdn-a.akamaihd.net/steam/apps/374320/ss_1318a04ef11d87f38aebe6d47a96124f8f888ca8.600x338.jpg?t=1553251330', 'https://steamcdn-a.akamaihd.net/steam/apps/374320/ss_61524dee9ebf72d462638f21adbbbea4c93d791d.600x338.jpg?t=1553251330', 'https://steamcdn-a.akamaihd.net/steam/apps/374320/ss_fe1dc6761a9004aa39c2e6e62181593b7263edf9.600x338.jpg?t=1553251330', 'https://steamcdn-a.akamaihd.net/steam/apps/374320/ss_27397db724cfd5648655c1056ff5d184147a4c50.600x338.jpg?t=1553251330', 'https://steamcdn-a.akamaihd.net/steam/apps/374320/ss_da36c88ae35d4f20c9d221a79592b31c080521d2.600x338.jpg?t=1553251330', 'https://steamcdn-a.akamaihd.net/steam/apps/374320/ss_12c4d9a3c04d6d340ffea9335441eb2ad84e0028.600x338.jpg?t=1553251330', 'https://steamcdn-a.akamaihd.net/steam/apps/374320/ss_701aa9c2f62f458fd3c9a2bd9561ad5e7f41f662.600x338.jpg?t=1553251330', 'https://steamcdn-a.akamaihd.net/steam/apps/374320/ss_975ca4966b9b627f8d9bb0d2c9b6743dfceac6da.600x338.jpg?t=1553251330']\n"
     ]
    }
   ],
   "source": [
    "data = dark.iloc[0]['screenshots']\n",
    "data_list = json.loads(data.replace(\"'\", \"\\\"\"))\n",
    "\n",
    "# Tạo mảng chứa các path_thumbnail\n",
    "path_thumbnails = [item['path_thumbnail'] for item in data_list]\n",
    "\n",
    "print(path_thumbnails)"
   ]
  },
  {
   "cell_type": "code",
   "execution_count": null,
   "id": "22d99edc-f656-4567-90f9-3b59f091bdac",
   "metadata": {},
   "outputs": [],
   "source": []
  }
 ],
 "metadata": {
  "kernelspec": {
   "display_name": "Python 3 (ipykernel)",
   "language": "python",
   "name": "python3"
  },
  "language_info": {
   "codemirror_mode": {
    "name": "ipython",
    "version": 3
   },
   "file_extension": ".py",
   "mimetype": "text/x-python",
   "name": "python",
   "nbconvert_exporter": "python",
   "pygments_lexer": "ipython3",
   "version": "3.11.4"
  }
 },
 "nbformat": 4,
 "nbformat_minor": 5
}
